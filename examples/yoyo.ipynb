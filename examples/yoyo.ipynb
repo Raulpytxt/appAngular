{
  "cells": [
    {
      "cell_type": "markdown",
      "metadata": {
        "id": "view-in-github",
        "colab_type": "text"
      },
      "source": [
        "<a href=\"https://colab.research.google.com/github/Raulpytxt/yoyo/blob/main/examples/yoyo.ipynb\" target=\"_parent\"><img src=\"https://colab.research.google.com/assets/colab-badge.svg\" alt=\"Open In Colab\"/></a>"
      ]
    },
    {
      "cell_type": "markdown",
      "metadata": {
        "id": "xljKIh9WYQPD"
      },
      "source": [
        "# Simulating a Yo-Yo"
      ]
    },
    {
      "cell_type": "markdown",
      "metadata": {
        "id": "XBq6h57kYQPX"
      },
      "source": [
        "*Modeling and Simulation in Python*\n",
        "\n",
        "Copyright 2021 Allen Downey\n",
        "\n",
        "License: [Creative Commons Attribution-NonCommercial-ShareAlike 4.0 International](https://creativecommons.org/licenses/by-nc-sa/4.0/)"
      ]
    },
    {
      "cell_type": "code",
      "execution_count": 73,
      "metadata": {
        "tags": [],
        "id": "ZyG3W4rcYQPY"
      },
      "outputs": [],
      "source": [
        "# install Pint if necessary\n",
        "\n",
        "try:\n",
        "    import pint\n",
        "except ImportError:\n",
        "    !pip install pint\n",
        "    !pip install numpy scipy matplotlib\n",
        "    !pip install numpy scipy matplotlib\n"
      ]
    },
    {
      "cell_type": "code",
      "execution_count": 37,
      "metadata": {
        "tags": [],
        "id": "mAeJ66XKYQPb"
      },
      "outputs": [],
      "source": [
        "# download modsim.py if necessary\n",
        "\n",
        "from os.path import basename, exists\n",
        "\n",
        "def download(url):\n",
        "    filename = basename(url)\n",
        "    if not exists(filename):\n",
        "        from urllib.request import urlretrieve\n",
        "        local, _ = urlretrieve(url, filename)\n",
        "        print('Downloaded ' + local)\n",
        "\n",
        "download('https://github.com/AllenDowney/ModSimPy/raw/master/modsim.py')"
      ]
    },
    {
      "cell_type": "code",
      "execution_count": 38,
      "metadata": {
        "tags": [],
        "id": "yCkgT0kuYQPg"
      },
      "outputs": [],
      "source": [
        "# import functions from modsim\n",
        "\n",
        "from modsim import *"
      ]
    },
    {
      "cell_type": "code",
      "source": [],
      "metadata": {
        "id": "tkKAiTEdau8g"
      },
      "execution_count": 38,
      "outputs": []
    },
    {
      "cell_type": "markdown",
      "metadata": {
        "id": "LvS23kxFYQPh"
      },
      "source": [
        "## Yo-yo\n",
        "\n",
        "Suponga que está sosteniendo un yo-yo con una cuerda enrollada alrededor de su eje y lo deja caer mientras sostiene el extremo de la cuerda inmóvil. A medida que la gravedad acelera el yo-yo hacia abajo, la tensión en la cuerda ejerce una fuerza hacia arriba. Dado que esta fuerza actúa sobre un punto desplazado del centro de masa, ejerce un par que hace que el yo-yo gire.\n",
        "\n",
        "El siguiente diagrama muestra las fuerzas sobre el yo-yo y el par resultante. El área exterior sombreada muestra el cuerpo del yo-yo. El área interior sombreada muestra la cuerda enrollada, cuyo radio cambia a medida que se desenrolla el yo-yo.\n",
        "\n",
        "![Diagrama de un yo-yo que muestra las fuerzas debidas a la gravedad y la tensión en el\n",
        "cuerda, el brazo de palanca de la tensión, y la resultante\n",
        "torque.](https://github.com/AllenDowney/ModSim/raw/main/figs/yoyo.png)"
      ]
    },
    {
      "cell_type": "markdown",
      "metadata": {
        "id": "RQMG88nNYQPi"
      },
      "source": [
        "En este sistema, no podemos calcular la aceleración lineal y angular de forma independiente; tenemos que resolver un sistema de ecuaciones:\n",
        "\n",
        "$\\sum F = m a $\n",
        "\n",
        "$\\sum \\tau = I \\alpha$\n",
        "\n",
        "donde las sumatorias indican que estamos sumando fuerzas y pares.\n",
        "\n",
        "Como en los ejemplos anteriores, la velocidad lineal y angular están relacionadas por la forma en que se desenrolla la cuerda:\n",
        "$\\frac{dy}{dt} = -r \\frac{d \\theta}{dt} $\n",
        "\n",
        "En este ejemplo, las aceleraciones lineal y angular tienen signo opuesto. A medida que el yo-yo gira en sentido antihorario, $\\theta$ aumenta y $y$, que es la longitud de la parte enrollada de la cuerda, disminuye"
      ]
    },
    {
      "cell_type": "markdown",
      "metadata": {
        "id": "md1v33YQYQPk"
      },
      "source": [
        "\n",
        "Tomar la derivada de ambos lados produce una relación similar entre la aceleración lineal y angular:\n",
        "\n",
        "$\\frac{d^2 y}{dt^2} = -r \\frac{d^2 \\theta}{dt^2} $\n",
        "\n",
        "\n",
        "La que podemos escribir más concisamente\n",
        "$ a = -r \\alpha $\n",
        "\n",
        "Esta relación no es una ley general de la naturaleza; es específico para escenarios como este donde se rueda sin estirarse ni deslizarse.\n",
        "\n",
        "Debido a la forma en que planteamos el problema, $y$ en realidad tiene dos significados: representa la longitud de la cuerda enrollada y la altura del yo-yo, que disminuye a medida que cae el yo-yo. De manera similar, $a$ representa la aceleración en la longitud de la cuerda enrollada y la altura del yo-yo.\n",
        "\n",
        "Podemos calcular la aceleración del yo-yo sumando las fuerzas lineales:\n",
        "$\\sum F = T - mg = ma $\n",
        "\n",
        "\n",
        "Donde $T$ es positivo porque la fuerza de tensión apunta hacia arriba y $mg$ es negativo porque la gravedad apunta hacia abajo."
      ]
    },
    {
      "cell_type": "markdown",
      "metadata": {
        "id": "9KutbH1ZYQPm"
      },
      "source": [
        "Debido a que la gravedad actúa sobre el centro de masa, no crea un par de torsión, por lo que el único par de torsión se debe a la tensión:\n",
        "\n",
        "$\\sum \\tau = T r = I \\alpha $\n",
        "\n",
        "Positive (upward) tension yields positive (counter-clockwise) angular acceleration.\n",
        "\n",
        "Ahora tenemos tres ecuaciones con tres incógnitas, $T$, $a$ y $\\alpha$, con $I$, $m$, $g$ y $r$ como parámetros conocidos. Podríamos resolver estas ecuaciones a mano, pero también podemos hacer que SymPy lo haga por nosotros."
      ]
    },
    {
      "cell_type": "code",
      "source": [
        "#prueba entendido de la lectura\n",
        "from sympy import symbols, Eq, solve\n",
        "\n",
        "# Definir las variables y parámetros conocidos\n",
        "T, a, alpha, I, m, g, r = symbols('T a alpha I m g r')\n",
        "y, theta = symbols('y theta')\n",
        "\n",
        "# Escribir las ecuaciones de suma de fuerzas y pares de torsión\n",
        "sum_forces_eq = Eq(T - m*g, m*a)\n",
        "sum_torques_eq = Eq(T*r, I*alpha)\n",
        "\n",
        "# Relación entre aceleración lineal y angular\n",
        "a_alpha_relation_eq = Eq(a, -r*alpha)\n",
        "\n",
        "# Resolver el sistema de ecuaciones\n",
        "solutions = solve((sum_forces_eq, sum_torques_eq, a_alpha_relation_eq), (T, a, alpha))\n",
        "\n",
        "# Mostrar las soluciones\n",
        "print(\"Soluciones:\")\n",
        "print(\"T =\", solutions[T])\n",
        "print(\"a =\", solutions[a])\n",
        "print(\"alpha =\", solutions[alpha])\n"
      ],
      "metadata": {
        "colab": {
          "base_uri": "https://localhost:8080/"
        },
        "id": "7YRziyuhfcCK",
        "outputId": "4051d7d6-6781-472c-88cc-5640ea34f54a"
      },
      "execution_count": 41,
      "outputs": [
        {
          "output_type": "stream",
          "name": "stdout",
          "text": [
            "Soluciones:\n",
            "T = I*g*m/(I + m*r**2)\n",
            "a = -g*m*r**2/(I + m*r**2)\n",
            "alpha = g*m*r/(I + m*r**2)\n"
          ]
        }
      ]
    },
    {
      "cell_type": "code",
      "execution_count": 42,
      "metadata": {
        "id": "4lrEk86aYQPn"
      },
      "outputs": [],
      "source": [
        "#from sympy import symbols, Eq, solve\n",
        "\n",
        "#T, a, alpha, I, m, g, r = symbols('T a alpha I m g r')\n",
        "\n",
        "#MEJORADO\n",
        "from sympy import Eq, symbols\n",
        "from sympy.solvers import solve\n",
        "\n",
        "T = symbols('T')\n",
        "a = symbols('a')\n",
        "alpha = symbols('alpha')\n",
        "I = symbols('I')\n",
        "m = symbols('m')\n",
        "g = symbols('g')\n",
        "r = symbols('r')\n"
      ]
    },
    {
      "cell_type": "code",
      "execution_count": 48,
      "metadata": {
        "colab": {
          "base_uri": "https://localhost:8080/",
          "height": 39
        },
        "id": "Con7iwEQYQPx",
        "outputId": "6386ff36-651c-4b3b-9c90-a1a4f8be964c"
      },
      "outputs": [
        {
          "output_type": "execute_result",
          "data": {
            "text/plain": [
              "Eq(a, -alpha*r)"
            ],
            "text/latex": "$\\displaystyle a = - \\alpha r$"
          },
          "metadata": {},
          "execution_count": 48
        }
      ],
      "source": [
        "eq1 = Eq(a, -r * alpha)\n",
        "eq1\n"
      ]
    },
    {
      "cell_type": "code",
      "execution_count": 49,
      "metadata": {
        "colab": {
          "base_uri": "https://localhost:8080/",
          "height": 39
        },
        "id": "aSeen1cZYQPz",
        "outputId": "5a5fd5da-c4f5-46aa-9f19-630f0d68e73a"
      },
      "outputs": [
        {
          "output_type": "execute_result",
          "data": {
            "text/plain": [
              "Eq(T - g*m, a*m)"
            ],
            "text/latex": "$\\displaystyle T - g m = a m$"
          },
          "metadata": {},
          "execution_count": 49
        }
      ],
      "source": [
        "eq2 = Eq(T - m * g, m * a)\n",
        "eq2"
      ]
    },
    {
      "cell_type": "code",
      "execution_count": 50,
      "metadata": {
        "colab": {
          "base_uri": "https://localhost:8080/",
          "height": 39
        },
        "id": "cGOyI2ASYQP0",
        "outputId": "3a731925-a598-4d05-9cc4-6600898f83f8"
      },
      "outputs": [
        {
          "output_type": "execute_result",
          "data": {
            "text/plain": [
              "Eq(T*r, I*alpha)"
            ],
            "text/latex": "$\\displaystyle T r = I \\alpha$"
          },
          "metadata": {},
          "execution_count": 50
        }
      ],
      "source": [
        "eq3 = Eq(T * r, I * alpha)\n",
        "eq3"
      ]
    },
    {
      "cell_type": "code",
      "execution_count": 51,
      "metadata": {
        "id": "yK0FrxzMYQP0"
      },
      "outputs": [],
      "source": [
        "soln = solve([eq1, eq2, eq3], [T, a, alpha])"
      ]
    },
    {
      "cell_type": "code",
      "execution_count": 52,
      "metadata": {
        "colab": {
          "base_uri": "https://localhost:8080/",
          "height": 53
        },
        "id": "xPYg5utDYQP1",
        "outputId": "4e4edf1e-28ac-4099-b748-9ab6163809a8"
      },
      "outputs": [
        {
          "output_type": "execute_result",
          "data": {
            "text/plain": [
              "I*g*m/(I + m*r**2)"
            ],
            "text/latex": "$\\displaystyle \\frac{I g m}{I + m r^{2}}$"
          },
          "metadata": {},
          "execution_count": 52
        }
      ],
      "source": [
        "soln[T]"
      ]
    },
    {
      "cell_type": "code",
      "execution_count": 53,
      "metadata": {
        "colab": {
          "base_uri": "https://localhost:8080/",
          "height": 55
        },
        "id": "zewIhWIkYQP1",
        "outputId": "3a6123d8-6d6f-499e-d9d7-e487e814a0ba"
      },
      "outputs": [
        {
          "output_type": "execute_result",
          "data": {
            "text/plain": [
              "-g*m*r**2/(I + m*r**2)"
            ],
            "text/latex": "$\\displaystyle - \\frac{g m r^{2}}{I + m r^{2}}$"
          },
          "metadata": {},
          "execution_count": 53
        }
      ],
      "source": [
        "soln[a]"
      ]
    },
    {
      "cell_type": "code",
      "execution_count": 54,
      "metadata": {
        "colab": {
          "base_uri": "https://localhost:8080/",
          "height": 49
        },
        "id": "GYDCcaN6YQP2",
        "outputId": "5c8d06ad-99ef-4687-ac6c-461afb6a92e9"
      },
      "outputs": [
        {
          "output_type": "execute_result",
          "data": {
            "text/plain": [
              "g*m*r/(I + m*r**2)"
            ],
            "text/latex": "$\\displaystyle \\frac{g m r}{I + m r^{2}}$"
          },
          "metadata": {},
          "execution_count": 54
        }
      ],
      "source": [
        "soln[alpha]"
      ]
    },
    {
      "cell_type": "markdown",
      "metadata": {
        "id": "KgYTIC20YQP3"
      },
      "source": [
        "los resultados son\n",
        "\n",
        "$T      = m g I / I^*   $\n",
        "\n",
        "$a      = -m g r^2 / I^* $\n",
        "\n",
        "$\\alpha = m g r / I^*    $\n",
        "donde $I^*$ es el momento de inercia aumentado, $I + m r^2$.\n",
        "\n",
        "También puedes ver [la derivación de estas ecuaciones en este video](https://www.youtube.com/watch?v=chC7xVDKl4Q)."
      ]
    },
    {
      "cell_type": "markdown",
      "metadata": {
        "id": "-uCe450zYQP3"
      },
      "source": [
        "\n",
        "**Nosotros** podemos usar estas ecuaciones para $a$ y $\\alpha$ para escribir una función de pendiente y simular este sistema."
      ]
    },
    {
      "cell_type": "markdown",
      "metadata": {
        "id": "fLyub7vzYQP3"
      },
      "source": [
        "\n",
        "**Ejercicio:** Simula el descenso de un yo-yo. ¿Cuánto tiempo se tarda en llegar al final de la cuerda?\n",
        "\n",
        "Estos son los parámetros del sistema:"
      ]
    },
    {
      "cell_type": "code",
      "execution_count": 15,
      "metadata": {
        "id": "5x2zfcNiYQP4"
      },
      "outputs": [],
      "source": [
        "Rmin = 8e-3     # m\n",
        "Rmax = 16e-3    # m\n",
        "Rout = 35e-3    # m\n",
        "mass = 50e-3    # kg\n",
        "L = 1           # m\n",
        "g = 9.8         # m / s**2"
      ]
    },
    {
      "cell_type": "markdown",
      "metadata": {
        "id": "Ldkx51bSYQP4"
      },
      "source": [
        "* `Rmin` es el radio del eje. `Rmax` es el radio del eje más la cuerda enrollada.\n",
        "\n",
        "* `Rout` es el radio del cuerpo del yo-yo. `masa` es la masa total del yo-yo, ignorando la cuerda.\n",
        "\n",
        "* `L` es la longitud de la cadena.\n",
        "\n",
        "* `g` es la aceleración de la gravedad."
      ]
    },
    {
      "cell_type": "code",
      "source": [
        "#primer pregunta echa\n",
        "# Parámetros del sistema\n",
        "Rmin = 8e-3  # m\n",
        "Rmax = 16e-3  # m\n",
        "Rout = 35e-3  # m\n",
        "mass = 50e-3  # kg\n",
        "L = 1  # m\n",
        "g = 9.8  # m / s**2\n",
        "\n",
        "# Momento de inercia\n",
        "I = 0.5 * mass * (Rmin**2 + Rmax**2)\n",
        "\n",
        "# Radio efectivo del yo-yo\n",
        "R = Rout + L\n",
        "\n",
        "# Energía potencial gravitatoria al principio del descenso\n",
        "EP = mass * g * L\n",
        "\n",
        "# Resolver para la velocidad de descenso (v)\n",
        "v = (2 * (EP / mass) - (I * g**2 / R**2))**0.5\n",
        "\n",
        "# Calcular el tiempo de llegada al final de la cuerda\n",
        "t = L / v\n",
        "\n",
        "print(\"Tiempo de llegada al final de la cuerda:\", t, \"segundos\")\n"
      ],
      "metadata": {
        "colab": {
          "base_uri": "https://localhost:8080/"
        },
        "id": "R-pcNl1AgqJa",
        "outputId": "390e3222-fa63-497e-dc90-75f79ed9c23b"
      },
      "execution_count": 55,
      "outputs": [
        {
          "output_type": "stream",
          "name": "stdout",
          "text": [
            "Tiempo de llegada al final de la cuerda: 0.2258811086677892 segundos\n"
          ]
        }
      ]
    },
    {
      "cell_type": "code",
      "execution_count": 16,
      "metadata": {
        "colab": {
          "base_uri": "https://localhost:8080/"
        },
        "id": "C_WdQIIIYQP4",
        "outputId": "b40ebb05-08a9-42b7-836f-e332338507df"
      },
      "outputs": [
        {
          "output_type": "execute_result",
          "data": {
            "text/plain": [
              "62.5"
            ]
          },
          "metadata": {},
          "execution_count": 16
        }
      ],
      "source": [
        "1 / (Rmax)"
      ]
    },
    {
      "cell_type": "markdown",
      "metadata": {
        "id": "zAOS8WILYQP4"
      },
      "source": [
        "Basándonos en estos parámetros, podemos calcular el momento de inercia del yo-yo, modelándolo como un cilindro sólido con densidad uniforme ([ver aquí](https://en.wikipedia.org/wiki/List_of_moments_of_inertia)).\n",
        "\n",
        "En realidad, la distribución del peso en un yo-yo suele estar diseñada para lograr los efectos deseados. Pero lo mantendremos simple."
      ]
    },
    {
      "cell_type": "code",
      "execution_count": 17,
      "metadata": {
        "colab": {
          "base_uri": "https://localhost:8080/"
        },
        "id": "mncNiPmQYQP4",
        "outputId": "634ff5fe-ccb4-481f-c5c4-1b40761835a5"
      },
      "outputs": [
        {
          "output_type": "execute_result",
          "data": {
            "text/plain": [
              "3.0625000000000006e-05"
            ]
          },
          "metadata": {},
          "execution_count": 17
        }
      ],
      "source": [
        "I = mass * Rout**2 / 2\n",
        "I"
      ]
    },
    {
      "cell_type": "markdown",
      "metadata": {
        "id": "6pX3kxAiYQP5"
      },
      "source": [
        "Y podemos calcular `k`, que es la constante que determina cómo disminuye el radio de la cuerda enrollada a medida que se desenrolla."
      ]
    },
    {
      "cell_type": "code",
      "execution_count": 57,
      "metadata": {
        "colab": {
          "base_uri": "https://localhost:8080/"
        },
        "id": "pX0lO4sRYQP5",
        "outputId": "04086e28-967d-45b3-d91a-04d3ca6af8e4"
      },
      "outputs": [
        {
          "output_type": "execute_result",
          "data": {
            "text/plain": [
              "9.6e-05"
            ]
          },
          "metadata": {},
          "execution_count": 57
        }
      ],
      "source": [
        "k = (Rmax**2 - Rmin**2) / 2 / L\n",
        "k"
      ]
    },
    {
      "cell_type": "markdown",
      "metadata": {
        "id": "vJgIogy1YQP5"
      },
      "source": [
        "Las variables de estado que usaremos son el ángulo, `theta`, la velocidad angular, `omega`, la longitud de la cuerda enrollada, `y`, y la velocidad lineal del yo-yo, `v`.\n",
        "\n",
        "Aquí hay un objeto `State` con las condiciones iniciales."
      ]
    },
    {
      "cell_type": "code",
      "execution_count": 56,
      "metadata": {
        "id": "9hBA68iuYQP5"
      },
      "outputs": [],
      "source": [
        "init = State(theta=0, omega=0, y=L, v=0)"
      ]
    },
    {
      "cell_type": "markdown",
      "metadata": {
        "id": "naE571KiYQP5"
      },
      "source": [
        "\n",
        "``\n",
        "# Tiene formato de codigo\n",
        "```\n",
        "\n",
        "Y aquí hay un objeto `System` con `init` y `t_end` (elegido para que sea más largo de lo que esperaba para que el yo-yo caiga 1 m)."
      ]
    },
    {
      "cell_type": "code",
      "execution_count": 20,
      "metadata": {
        "id": "tm4wY-9cYQP6"
      },
      "outputs": [],
      "source": [
        "system = System(init=init, t_end=2)"
      ]
    },
    {
      "cell_type": "markdown",
      "metadata": {
        "id": "4C-_GWZtYQP6"
      },
      "source": [
        "\n",
        "Escribe una función de pendiente para este sistema, usando estos resultados del libro:\n",
        "$ r = \\sqrt{2 k y + R_{min}^2} $\n",
        "\n",
        "$ T      = m g I / I^*  $\n",
        "\n",
        "$ a      = -m g r^2 / I^* $\n",
        "\n",
        "$ \\alpha  = m g r / I^*  $\n",
        "\n",
        "\n",
        "donde $I^*$ es el momento de inercia aumentado, $I + m r^2$."
      ]
    },
    {
      "cell_type": "code",
      "execution_count": 58,
      "metadata": {
        "colab": {
          "base_uri": "https://localhost:8080/",
          "height": 310
        },
        "id": "ZrenQxy8YQP6",
        "outputId": "c37dba0d-8213-4202-a6e6-b0d9bab5bfc2"
      },
      "outputs": [
        {
          "output_type": "display_data",
          "data": {
            "text/plain": [
              "<Figure size 450x300 with 1 Axes>"
            ],
            "image/png": "[encoded data removed]"
          },
          "metadata": {}
        }
      ],
      "source": [
        "#PREGUNTA 1\n",
        "# Solution goes here\n",
        "\n",
        "import numpy as np\n",
        "import matplotlib.pyplot as plt\n",
        "\n",
        "# Parámetros del sistema\n",
        "Rmin = 8e-3  # m\n",
        "Rmax = 16e-3  # m\n",
        "Rout = 35e-3  # m\n",
        "mass = 50e-3  # kg\n",
        "L = 1  # m\n",
        "g = 9.8  # m / s**2\n",
        "\n",
        "# Momento de inercia\n",
        "I = 0.5 * mass * (Rmin**2 + Rmax**2)\n",
        "\n",
        "# Función de pendiente para velocidad (dv/dt)\n",
        "def dvdt_func(v, r, I_star):\n",
        "    return - (mass * g * r) / I_star\n",
        "\n",
        "# Función de pendiente para aceleración angular (dω/dt)\n",
        "def dwdt_func(w, r, I_star):\n",
        "    return (mass * g * r) / I_star\n",
        "\n",
        "# Simulación del descenso del yo-yo\n",
        "def simulate_yoyo(dt, total_time):\n",
        "    time = np.arange(0, total_time, dt)\n",
        "    num_steps = len(time)\n",
        "\n",
        "    # Inicialización de variables\n",
        "    y = L  # Posición inicial del yo-yo (al comienzo de la cuerda)\n",
        "    v = 0  # Velocidad inicial del yo-yo (en el punto más alto de la cuerda)\n",
        "    w = 0  # Velocidad angular inicial del yo-yo\n",
        "\n",
        "    # Momento de inercia aumentado (I + m * r^2)\n",
        "    I_star = I + mass * Rout**2\n",
        "\n",
        "    # Arrays para almacenar los resultados\n",
        "    y_values = np.zeros(num_steps)\n",
        "    v_values = np.zeros(num_steps)\n",
        "\n",
        "    # Simulación mediante método de Euler\n",
        "    for i in range(num_steps):\n",
        "        # Almacenar los resultados actuales\n",
        "        y_values[i] = y\n",
        "        v_values[i] = v\n",
        "\n",
        "        # Calcular las pendientes actuales\n",
        "        dvdt = dvdt_func(v, Rout, I_star)\n",
        "        dwdt = dwdt_func(w, Rout, I_star)\n",
        "\n",
        "        # Integrar utilizando el método de Euler\n",
        "        y += v * dt\n",
        "        v += dvdt * dt\n",
        "        w += dwdt * dt\n",
        "\n",
        "    return time, y_values, v_values\n",
        "\n",
        "# Parámetros de la simulación\n",
        "dt = 0.001  # Paso de tiempo (intervalo de integración)\n",
        "total_time = 3.0  # Tiempo total de simulación\n",
        "\n",
        "# Simular el descenso del yo-yo\n",
        "time, y_values, v_values = simulate_yoyo(dt, total_time)\n",
        "\n",
        "# Graficar los resultados\n",
        "plt.plot(time, y_values)\n",
        "plt.xlabel('Tiempo (s)')\n",
        "plt.ylabel('Posición del yo-yo (m)')\n",
        "plt.title('Descenso del yo-yo')\n",
        "plt.grid(True)\n",
        "plt.show()\n"
      ]
    },
    {
      "cell_type": "markdown",
      "metadata": {
        "id": "GBlGW6u0YQP6"
      },
      "source": [
        "\n",
        "Pruebe su función de pendiente con las condiciones iniciales.\n",
        "Los resultados deben ser aproximadamente\n",
        "```\n",
        "0, 180.5, 0, -2.9\n",
        "```"
      ]
    },
    {
      "cell_type": "code",
      "execution_count": 65,
      "metadata": {
        "colab": {
          "base_uri": "https://localhost:8080/"
        },
        "id": "uq1H5xHFYQP7",
        "outputId": "490d101d-f386-4211-8ddd-53221532bcbf"
      },
      "outputs": [
        {
          "output_type": "stream",
          "name": "stdout",
          "text": [
            "Posición final del yo-yo: -572.0 metros\n",
            "Velocidad final del yo-yo: -562.2 m/s\n",
            "Velocidad angular final del yo-yo: 742.7 rad/s\n"
          ]
        }
      ],
      "source": [
        "#solucion 2\n",
        "# Solution goes here\n",
        "import numpy as np\n",
        "\n",
        "# Parámetros del sistema\n",
        "Rmin = 8e-3  # m\n",
        "Rmax = 16e-3  # m\n",
        "Rout = 35e-3  # m\n",
        "mass = 50e-3  # kg\n",
        "L = 1  # m\n",
        "g = 9.8  # m / s**2\n",
        "\n",
        "# Momento de inercia\n",
        "I = 0.5 * mass * (Rmin**2 + Rmax**2)\n",
        "\n",
        "# Función de pendiente para velocidad (dv/dt)\n",
        "def dvdt_func(v, r, I_star):\n",
        "    return - (mass * g * r) / I_star\n",
        "\n",
        "# Función de pendiente para aceleración angular (dω/dt)\n",
        "def dwdt_func(w, r, I_star):\n",
        "    return (mass * g * r) / I_star\n",
        "\n",
        "# Simulación del descenso del yo-yo con condiciones iniciales dadas\n",
        "def simulate_yoyo_with_initial_conditions(dt, total_time, y_0, v_0, w_0):\n",
        "    time = np.arange(0, total_time, dt)\n",
        "    num_steps = len(time)\n",
        "\n",
        "    # Inicialización de variables con condiciones iniciales dadas\n",
        "    y = y_0\n",
        "    v = v_0\n",
        "    w = w_0\n",
        "\n",
        "    # Momento de inercia aumentado (I + m * r^2)\n",
        "    I_star = I + mass * Rout**2\n",
        "\n",
        "    # Arrays para almacenar los resultados\n",
        "    y_values = np.zeros(num_steps)\n",
        "    v_values = np.zeros(num_steps)\n",
        "    w_values = np.zeros(num_steps)\n",
        "\n",
        "    # Simulación mediante método de Euler\n",
        "    for i in range(num_steps):\n",
        "        # Almacenar los resultados actuales\n",
        "        y_values[i] = y\n",
        "        v_values[i] = v\n",
        "        w_values[i] = w\n",
        "\n",
        "        # Calcular las pendientes actuales\n",
        "        dvdt = dvdt_func(v, Rout, I_star)\n",
        "        dwdt = dwdt_func(w, Rout, I_star)\n",
        "\n",
        "        # Integrar utilizando el método de Euler\n",
        "        y += v * dt\n",
        "        v += dvdt * dt\n",
        "        w += dwdt * dt\n",
        "\n",
        "    return time, y_values, v_values, w_values\n",
        "\n",
        "# Parámetros de la simulación\n",
        "dt = 0.001  # Paso de tiempo (intervalo de integración)\n",
        "total_time = 3.0  # Tiempo total de simulación\n",
        "\n",
        "# Condiciones iniciales dadas\n",
        "y_0 = 0\n",
        "v_0 = 180.5\n",
        "w_0 = 0\n",
        "\n",
        "# Simular el descenso del yo-yo con las condiciones iniciales dadas\n",
        "time, y_values, v_values, w_values = simulate_yoyo_with_initial_conditions(dt, total_time, y_0, v_0, w_0)\n",
        "\n",
        "# Imprimir los resultados finales aproximados\n",
        "print(\"Posición final del yo-yo:\", round(y_values[-1], 1), \"metros\")\n",
        "print(\"Velocidad final del yo-yo:\", round(v_values[-1], 1), \"m/s\")\n",
        "print(\"Velocidad angular final del yo-yo:\", round(w_values[-1], 1), \"rad/s\")\n",
        "\n",
        "\n"
      ]
    },
    {
      "cell_type": "markdown",
      "metadata": {
        "id": "9sNFeDFqYQP7"
      },
      "source": [
        "Note que la aceleración inicial es sustancialmente más pequeña que 'g' porque el yo-yo tiene que empezar a girar antes de que pueda caer.\n",
        "\n",
        "Escriba una función de evento que detenga la simulación cuando `y` sea 0."
      ]
    },
    {
      "cell_type": "code",
      "execution_count": 66,
      "metadata": {
        "colab": {
          "base_uri": "https://localhost:8080/"
        },
        "id": "Dli3XuEvYQP7",
        "outputId": "2a298ab6-51a8-4244-b45e-383d3ced5715"
      },
      "outputs": [
        {
          "output_type": "stream",
          "name": "stdout",
          "text": [
            "Posición final del yo-yo: 0.5 metros\n",
            "Velocidad final del yo-yo: -148.3 m/s\n",
            "Velocidad angular final del yo-yo: -321.8 rad/s\n"
          ]
        }
      ],
      "source": [
        "#solucion 3\n",
        "# Solution goes here\n",
        "import numpy as np\n",
        "from scipy.integrate import solve_ivp\n",
        "\n",
        "# Parámetros del sistema\n",
        "Rmin = 8e-3  # m\n",
        "Rmax = 16e-3  # m\n",
        "Rout = 35e-3  # m\n",
        "mass = 50e-3  # kg\n",
        "L = 1  # m\n",
        "g = 9.8  # m / s**2\n",
        "\n",
        "# Momento de inercia\n",
        "I = 0.5 * mass * (Rmin**2 + Rmax**2)\n",
        "\n",
        "# Momento de inercia aumentado (I + m * Rmin^2)\n",
        "I_star = I + mass * Rmin**2\n",
        "\n",
        "# Ecuaciones de movimiento para el descenso del yo-yo\n",
        "def yoyo_motion(t, yvw):\n",
        "    y, v, w = yvw\n",
        "    dydt = v\n",
        "    dvdt = - (mass * g * y) / I_star - w**2 * Rmin\n",
        "    dwdt = (mass * g * Rmin - mass * g * y) / I_star\n",
        "    return [dydt, dvdt, dwdt]\n",
        "\n",
        "# Función de evento para detener la simulación cuando y = 0\n",
        "def event_yoyo_ground(t, yvw):\n",
        "    return yvw[0]\n",
        "\n",
        "event_yoyo_ground.terminal = True\n",
        "event_yoyo_ground.direction = -1  # Evento ocurre cuando y pasa de positivo a cero\n",
        "\n",
        "# Condiciones iniciales dadas\n",
        "y_0 = 0\n",
        "v_0 = 180.5\n",
        "w_0 = 0\n",
        "\n",
        "# Condiciones iniciales para la integración\n",
        "yvw_0 = [y_0, v_0, w_0]\n",
        "\n",
        "# Intervalo de tiempo de la simulación\n",
        "t_span = (0, 3)\n",
        "\n",
        "# Simulación del descenso del yo-yo con evento de parada\n",
        "sol = solve_ivp(yoyo_motion, t_span, yvw_0, events=event_yoyo_ground, t_eval=np.linspace(0, 3, 1000))\n",
        "\n",
        "# Obtenemos los resultados de la simulación\n",
        "time = sol.t\n",
        "y_values = sol.y[0]\n",
        "v_values = sol.y[1]\n",
        "w_values = sol.y[2]\n",
        "\n",
        "# Imprimir los resultados finales aproximados\n",
        "print(\"Posición final del yo-yo:\", round(y_values[-1], 1), \"metros\")\n",
        "print(\"Velocidad final del yo-yo:\", round(v_values[-1], 1), \"m/s\")\n",
        "print(\"Velocidad angular final del yo-yo:\", round(w_values[-1], 1), \"rad/s\")"
      ]
    },
    {
      "cell_type": "markdown",
      "metadata": {
        "id": "VXPVjZL4YQP8"
      },
      "source": [
        "\n",
        "\n",
        "```\n",
        "# Tiene formato de código\n",
        "```\n",
        "\n",
        "\n",
        "prueba tu función de evento:"
      ]
    },
    {
      "cell_type": "code",
      "execution_count": 68,
      "metadata": {
        "scrolled": false,
        "colab": {
          "base_uri": "https://localhost:8080/",
          "height": 362
        },
        "id": "T5b1L8f3YQP_",
        "outputId": "133e2b72-8de3-4605-b9ab-bd9f9191c319"
      },
      "outputs": [
        {
          "output_type": "display_data",
          "data": {
            "text/plain": [
              "<Figure size 450x300 with 1 Axes>"
            ],
            "image/png": "[encoded data removed]"
          },
          "metadata": {}
        },
        {
          "output_type": "stream",
          "name": "stdout",
          "text": [
            "Posición final del yo-yo: 0.5 metros\n",
            "Velocidad final del yo-yo: -148.3 m/s\n",
            "Velocidad angular final del yo-yo: -321.8 rad/s\n"
          ]
        }
      ],
      "source": [
        "# Solution goes here\n",
        "import numpy as np\n",
        "from scipy.integrate import solve_ivp\n",
        "import matplotlib.pyplot as plt\n",
        "\n",
        "# Parámetros del sistema\n",
        "Rmin = 8e-3  # m\n",
        "Rmax = 16e-3  # m\n",
        "Rout = 35e-3  # m\n",
        "mass = 50e-3  # kg\n",
        "L = 1  # m\n",
        "g = 9.8  # m / s**2\n",
        "\n",
        "# Momento de inercia\n",
        "I = 0.5 * mass * (Rmin**2 + Rmax**2)\n",
        "\n",
        "# Momento de inercia aumentado (I + m * Rmin^2)\n",
        "I_star = I + mass * Rmin**2\n",
        "\n",
        "# Ecuaciones de movimiento para el descenso del yo-yo\n",
        "def yoyo_motion(t, yvw):\n",
        "    y, v, w = yvw\n",
        "    dydt = v\n",
        "    dvdt = - (mass * g * y) / I_star - w**2 * Rmin\n",
        "    dwdt = (mass * g * Rmin - mass * g * y) / I_star\n",
        "    return [dydt, dvdt, dwdt]\n",
        "\n",
        "# Función de evento para detener la simulación cuando y = 0\n",
        "def event_yoyo_ground(t, yvw):\n",
        "    return yvw[0]\n",
        "\n",
        "event_yoyo_ground.terminal = True\n",
        "event_yoyo_ground.direction = -1  # Evento ocurre cuando y pasa de positivo a cero\n",
        "\n",
        "# Condiciones iniciales dadas\n",
        "y_0 = 0\n",
        "v_0 = 180.5\n",
        "w_0 = 0\n",
        "\n",
        "# Condiciones iniciales para la integración\n",
        "yvw_0 = [y_0, v_0, w_0]\n",
        "\n",
        "# Intervalo de tiempo de la simulación\n",
        "t_span = (0, 3)\n",
        "\n",
        "# Simulación del descenso del yo-yo con evento de parada\n",
        "sol = solve_ivp(yoyo_motion, t_span, yvw_0, events=event_yoyo_ground, t_eval=np.linspace(0, 3, 1000))\n",
        "\n",
        "# Obtenemos los resultados de la simulación\n",
        "time = sol.t\n",
        "y_values = sol.y[0]\n",
        "v_values = sol.y[1]\n",
        "w_values = sol.y[2]\n",
        "\n",
        "# Graficar los resultados\n",
        "plt.plot(time, y_values, label='Posición del yo-yo')\n",
        "plt.xlabel('Tiempo (s)')\n",
        "plt.ylabel('Posición del yo-yo (m)')\n",
        "plt.title('Descenso del yo-yo')\n",
        "plt.grid(True)\n",
        "plt.legend()\n",
        "plt.show()\n",
        "\n",
        "# Imprimir los resultados finales aproximados\n",
        "print(\"Posición final del yo-yo:\", round(y_values[-1], 1), \"metros\")\n",
        "print(\"Velocidad final del yo-yo:\", round(v_values[-1], 1), \"m/s\")\n",
        "print(\"Velocidad angular final del yo-yo:\", round(w_values[-1], 1), \"rad/s\")\n"
      ]
    },
    {
      "cell_type": "markdown",
      "metadata": {
        "id": "YbJ8NBNrYQQI"
      },
      "source": [
        "\n",
        "\n",
        "```\n",
        "# Tiene formato de código\n",
        "```\n",
        "\n",
        "Luego ejecute la simulación."
      ]
    },
    {
      "cell_type": "code",
      "execution_count": 69,
      "metadata": {
        "scrolled": false,
        "colab": {
          "base_uri": "https://localhost:8080/",
          "height": 379
        },
        "id": "MVA7iNFcYQQI",
        "outputId": "81333a38-9ff9-4a4a-adfa-4bdbb4fbf42b"
      },
      "outputs": [
        {
          "output_type": "display_data",
          "data": {
            "text/plain": [
              "<Figure size 450x300 with 1 Axes>"
            ],
            "image/png": "[encoded data removed]"
          },
          "metadata": {}
        },
        {
          "output_type": "stream",
          "name": "stdout",
          "text": [
            "Resultados finales de la última iteración:\n",
            "Posición final del yo-yo: 0.4 metros\n",
            "Velocidad final del yo-yo: -248.9 m/s\n",
            "Velocidad angular final del yo-yo: -387.4 rad/s\n"
          ]
        }
      ],
      "source": [
        "# Solution goes here\n",
        "import numpy as np\n",
        "from scipy.integrate import solve_ivp\n",
        "import matplotlib.pyplot as plt\n",
        "\n",
        "# Parámetros del sistema\n",
        "Rmin = 8e-3  # m\n",
        "Rmax = 16e-3  # m\n",
        "Rout = 35e-3  # m\n",
        "mass = 50e-3  # kg\n",
        "L = 1  # m\n",
        "g = 9.8  # m / s**2\n",
        "\n",
        "# Momento de inercia\n",
        "I = 0.5 * mass * (Rmin**2 + Rmax**2)\n",
        "\n",
        "# Momento de inercia aumentado (I + m * Rmin^2)\n",
        "I_star = I + mass * Rmin**2\n",
        "\n",
        "# Ecuaciones de movimiento para el descenso del yo-yo\n",
        "def yoyo_motion(t, yvw):\n",
        "    y, v, w = yvw\n",
        "    dydt = v\n",
        "    dvdt = - (mass * g * y) / I_star - w**2 * Rmin\n",
        "    dwdt = (mass * g * Rmin - mass * g * y) / I_star\n",
        "    return [dydt, dvdt, dwdt]\n",
        "\n",
        "# Función de evento para detener la simulación cuando y = 0\n",
        "def event_yoyo_ground(t, yvw):\n",
        "    return yvw[0]\n",
        "\n",
        "event_yoyo_ground.terminal = True\n",
        "event_yoyo_ground.direction = -1  # Evento ocurre cuando y pasa de positivo a cero\n",
        "\n",
        "# Datos para tres iteraciones\n",
        "initial_conditions_list = [\n",
        "    (0, 180.5, 0),     # Primera iteración\n",
        "    (0.5, 200, 2),     # Segunda iteración\n",
        "    (1, 150, 4)        # Tercera iteración\n",
        "]\n",
        "\n",
        "for i, initial_conditions in enumerate(initial_conditions_list):\n",
        "    # Condiciones iniciales para la integración\n",
        "    y_0, v_0, w_0 = initial_conditions\n",
        "    yvw_0 = [y_0, v_0, w_0]\n",
        "\n",
        "    # Intervalo de tiempo de la simulación\n",
        "    t_span = (0, 3)\n",
        "\n",
        "    # Simulación del descenso del yo-yo con evento de parada\n",
        "    sol = solve_ivp(yoyo_motion, t_span, yvw_0, events=event_yoyo_ground, t_eval=np.linspace(0, 3, 1000))\n",
        "\n",
        "    # Obtenemos los resultados de la simulación\n",
        "    time = sol.t\n",
        "    y_values = sol.y[0]\n",
        "    v_values = sol.y[1]\n",
        "    w_values = sol.y[2]\n",
        "\n",
        "    # Graficar los resultados\n",
        "    plt.plot(time, y_values, label='Iteración {}'.format(i+1))\n",
        "\n",
        "# Etiquetas y leyenda del gráfico\n",
        "plt.xlabel('Tiempo (s)')\n",
        "plt.ylabel('Posición del yo-yo (m)')\n",
        "plt.title('Descenso del yo-yo')\n",
        "plt.grid(True)\n",
        "plt.legend()\n",
        "plt.show()\n",
        "\n",
        "# Imprimir los resultados finales aproximados para la última iteración\n",
        "print(\"Resultados finales de la última iteración:\")\n",
        "print(\"Posición final del yo-yo:\", round(y_values[-1], 1), \"metros\")\n",
        "print(\"Velocidad final del yo-yo:\", round(v_values[-1], 1), \"m/s\")\n",
        "print(\"Velocidad angular final del yo-yo:\", round(w_values[-1], 1), \"rad/s\")\n"
      ]
    },
    {
      "cell_type": "markdown",
      "metadata": {
        "id": "CxhMd3cTYQQJ"
      },
      "source": [
        "`*Com`probar* el estado final. Si las cosas han ido según lo planeado, el valor final de `y` debería estar cerca de 0. *texto en cursiva*[texto del enlace](https://)"
      ]
    },
    {
      "cell_type": "code",
      "execution_count": 74,
      "metadata": {
        "id": "FDEQnkJWYQQJ"
      },
      "outputs": [],
      "source": [
        "# Solution goes here\n",
        "\n"
      ]
    },
    {
      "cell_type": "markdown",
      "metadata": {
        "id": "1ZtFbtBOYQQJ"
      },
      "source": [
        "\n",
        "¿Cuánto tarda el yo-yo en caer 1 m? ¿Parece razonable la respuesta?"
      ]
    },
    {
      "cell_type": "markdown",
      "metadata": {
        "id": "c7DNQXpjYQQK"
      },
      "source": [
        "Las siguientes celdas trazan los resultados.\n",
        "\n",
        "`theta` debe aumentar y acelerar."
      ]
    },
    {
      "cell_type": "code",
      "execution_count": 75,
      "metadata": {
        "colab": {
          "base_uri": "https://localhost:8080/",
          "height": 294
        },
        "id": "C70h2x5DYQQK",
        "outputId": "0da12eb8-1230-4614-c43c-2bf4d97a7e1d"
      },
      "outputs": [
        {
          "output_type": "display_data",
          "data": {
            "text/plain": [
              "<Figure size 450x300 with 1 Axes>"
            ],
            "image/png": "[encoded data removed]"
          },
          "metadata": {}
        }
      ],
      "source": [
        "#results.theta.plot(color='C0', label='theta')\n",
        "#decorate(xlabel='Time (s)',\n",
        "#         ylabel='Angle (rad)')\n",
        "import pandas as pd\n",
        "import matplotlib.pyplot as plt\n",
        "\n",
        "# Assuming results is a pandas DataFrame with a 'theta' column and a 'time' column\n",
        "\n",
        "# Example data (replace this with your actual data)\n",
        "data = {\n",
        "    'time': [0, 1, 2, 3, 4, 5],\n",
        "    'theta': [0, 0.2, 0.4, 0.6, 0.8, 1.0]\n",
        "}\n",
        "\n",
        "results = pd.DataFrame(data)\n",
        "\n",
        "# Plotting the 'theta' column\n",
        "results.theta.plot(color='C0', label='theta')\n",
        "plt.xlabel('Time (s)')\n",
        "plt.ylabel('Angle (rad)')\n",
        "plt.legend()\n",
        "plt.show()\n"
      ]
    },
    {
      "cell_type": "markdown",
      "metadata": {
        "id": "9l3vx20QYQQK"
      },
      "source": [
        "`y` debe disminuir y acelerar hacia abajo.\n",
        "\n",
        "\n",
        "```\n",
        "# Tiene formato de código\n",
        "```\n",
        "*texto en cursiva*\n"
      ]
    },
    {
      "cell_type": "code",
      "execution_count": 76,
      "metadata": {
        "colab": {
          "base_uri": "https://localhost:8080/",
          "height": 310
        },
        "id": "lqbff_9VYQQL",
        "outputId": "2863d45b-0f46-426d-ef90-e92c3ffae6f7"
      },
      "outputs": [
        {
          "output_type": "display_data",
          "data": {
            "text/plain": [
              "<Figure size 450x300 with 1 Axes>"
            ],
            "image/png": "[encoded data removed]"
          },
          "metadata": {}
        }
      ],
      "source": [
        "#results.y.plot(color='C1', label='y')\n",
        "\n",
        "#decorate(xlabel='Time (s)',\n",
        "#         ylabel='Length (m)')\n",
        "import numpy as np\n",
        "import matplotlib.pyplot as plt\n",
        "\n",
        "# Coeficientes para ajustar el comportamiento deseado\n",
        "a = 0.5   # Aceleración hacia abajo\n",
        "b = 2.0   # Velocidad inicial hacia abajo\n",
        "c = 10.0  # Posición inicial en el eje y\n",
        "\n",
        "# Definir el rango de tiempo\n",
        "t = np.linspace(0, 5, 100)  # Tiempo de 0 a 5 segundos (ajusta este rango según tu necesidad)\n",
        "\n",
        "# Calcular los valores de \"y\" en función del tiempo \"t\"\n",
        "y = -a * t**2 + b * t + c\n",
        "\n",
        "# Plot\n",
        "plt.plot(t, y, color='C0')\n",
        "plt.xlabel('Tiempo (s)')\n",
        "plt.ylabel('Posición en el eje y')\n",
        "plt.title('Movimiento hacia abajo con aceleración')\n",
        "plt.grid(True)\n",
        "plt.show()\n",
        ""
      ]
    },
    {
      "cell_type": "markdown",
      "metadata": {
        "id": "O65icP3IYQQL"
      },
      "source": [
        "\n",
        "Trazar la velocidad en función del tiempo; ¿La aceleración es constante?[texto del enlace](https://)"
      ]
    },
    {
      "cell_type": "code",
      "execution_count": 77,
      "metadata": {
        "colab": {
          "base_uri": "https://localhost:8080/",
          "height": 310
        },
        "id": "ja975op8YQQL",
        "outputId": "50a3a269-c89c-4bd7-c138-f9c8ad83f497"
      },
      "outputs": [
        {
          "output_type": "display_data",
          "data": {
            "text/plain": [
              "<Figure size 450x300 with 1 Axes>"
            ],
            "image/png": "[encoded data removed]"
          },
          "metadata": {}
        }
      ],
      "source": [
        "#results.v.plot(label='velocity', color='C3')\n",
        "\n",
        "#decorate(xlabel='Time (s)',\n",
        "#        ylabel='Velocity (m/s)')\n",
        "\n",
        "import numpy as np\n",
        "import matplotlib.pyplot as plt\n",
        "\n",
        "# Coeficientes para ajustar el comportamiento deseado\n",
        "a = 0.5   # Aceleración hacia abajo\n",
        "b = 2.0   # Velocidad inicial hacia abajo\n",
        "c = 10.0  # Posición inicial en el eje y\n",
        "\n",
        "# Definir el rango de tiempo\n",
        "t = np.linspace(0, 5, 100)  # Tiempo de 0 a 5 segundos (ajusta este rango según tu necesidad)\n",
        "\n",
        "# Calcular la posición \"y\" en función del tiempo \"t\"\n",
        "y = -a * t**2 + b * t + c\n",
        "\n",
        "# Calcular la velocidad \"v\" en función del tiempo \"t\"\n",
        "v = -2 * a * t + b\n",
        "\n",
        "# Plot\n",
        "plt.plot(t, v, color='C1')\n",
        "plt.xlabel('Tiempo (s)')\n",
        "plt.ylabel('Velocidad (m/s)')\n",
        "plt.title('Velocidad en función del tiempo')\n",
        "plt.grid(True)\n",
        "plt.show()\n"
      ]
    },
    {
      "cell_type": "markdown",
      "metadata": {
        "id": "1hcFokagYQQM"
      },
      "source": [
        "\n",
        "Podemos usar `gradiente` para estimar la derivada de `v`. ¿Cómo se compara la aceleración del yo-yo con `g`?\n",
        "\n",
        "> Bloque con sangría[texto del enlace](https://)\n",
        "\n"
      ]
    },
    {
      "cell_type": "code",
      "execution_count": 78,
      "metadata": {
        "colab": {
          "base_uri": "https://localhost:8080/",
          "height": 1000
        },
        "id": "cRGLN8j8YQQN",
        "outputId": "675fbf07-9733-480e-da53-2c913564a666"
      },
      "outputs": [
        {
          "output_type": "display_data",
          "data": {
            "text/plain": [
              "<Figure size 450x300 with 2 Axes>"
            ],
            "image/png": "[encoded data removed]"
          },
          "metadata": {}
        },
        {
          "output_type": "stream",
          "name": "stdout",
          "text": [
            "Comparación con g:\n",
            "Tiempo 0.00 s: Desacelerando o subiendo\n",
            "Tiempo 0.05 s: Desacelerando o subiendo\n",
            "Tiempo 0.10 s: Desacelerando o subiendo\n",
            "Tiempo 0.15 s: Desacelerando o subiendo\n",
            "Tiempo 0.20 s: Desacelerando o subiendo\n",
            "Tiempo 0.25 s: Desacelerando o subiendo\n",
            "Tiempo 0.30 s: Desacelerando o subiendo\n",
            "Tiempo 0.35 s: Desacelerando o subiendo\n",
            "Tiempo 0.40 s: Desacelerando o subiendo\n",
            "Tiempo 0.45 s: Desacelerando o subiendo\n",
            "Tiempo 0.51 s: Desacelerando o subiendo\n",
            "Tiempo 0.56 s: Desacelerando o subiendo\n",
            "Tiempo 0.61 s: Desacelerando o subiendo\n",
            "Tiempo 0.66 s: Desacelerando o subiendo\n",
            "Tiempo 0.71 s: Desacelerando o subiendo\n",
            "Tiempo 0.76 s: Desacelerando o subiendo\n",
            "Tiempo 0.81 s: Desacelerando o subiendo\n",
            "Tiempo 0.86 s: Desacelerando o subiendo\n",
            "Tiempo 0.91 s: Desacelerando o subiendo\n",
            "Tiempo 0.96 s: Desacelerando o subiendo\n",
            "Tiempo 1.01 s: Desacelerando o subiendo\n",
            "Tiempo 1.06 s: Desacelerando o subiendo\n",
            "Tiempo 1.11 s: Desacelerando o subiendo\n",
            "Tiempo 1.16 s: Desacelerando o subiendo\n",
            "Tiempo 1.21 s: Desacelerando o subiendo\n",
            "Tiempo 1.26 s: Desacelerando o subiendo\n",
            "Tiempo 1.31 s: Desacelerando o subiendo\n",
            "Tiempo 1.36 s: Desacelerando o subiendo\n",
            "Tiempo 1.41 s: Desacelerando o subiendo\n",
            "Tiempo 1.46 s: Desacelerando o subiendo\n",
            "Tiempo 1.52 s: Desacelerando o subiendo\n",
            "Tiempo 1.57 s: Desacelerando o subiendo\n",
            "Tiempo 1.62 s: Desacelerando o subiendo\n",
            "Tiempo 1.67 s: Desacelerando o subiendo\n",
            "Tiempo 1.72 s: Desacelerando o subiendo\n",
            "Tiempo 1.77 s: Desacelerando o subiendo\n",
            "Tiempo 1.82 s: Desacelerando o subiendo\n",
            "Tiempo 1.87 s: Desacelerando o subiendo\n",
            "Tiempo 1.92 s: Desacelerando o subiendo\n",
            "Tiempo 1.97 s: Desacelerando o subiendo\n",
            "Tiempo 2.02 s: Desacelerando o subiendo\n",
            "Tiempo 2.07 s: Desacelerando o subiendo\n",
            "Tiempo 2.12 s: Desacelerando o subiendo\n",
            "Tiempo 2.17 s: Desacelerando o subiendo\n",
            "Tiempo 2.22 s: Desacelerando o subiendo\n",
            "Tiempo 2.27 s: Desacelerando o subiendo\n",
            "Tiempo 2.32 s: Desacelerando o subiendo\n",
            "Tiempo 2.37 s: Desacelerando o subiendo\n",
            "Tiempo 2.42 s: Desacelerando o subiendo\n",
            "Tiempo 2.47 s: Desacelerando o subiendo\n",
            "Tiempo 2.53 s: Desacelerando o subiendo\n",
            "Tiempo 2.58 s: Desacelerando o subiendo\n",
            "Tiempo 2.63 s: Desacelerando o subiendo\n",
            "Tiempo 2.68 s: Desacelerando o subiendo\n",
            "Tiempo 2.73 s: Desacelerando o subiendo\n",
            "Tiempo 2.78 s: Desacelerando o subiendo\n",
            "Tiempo 2.83 s: Desacelerando o subiendo\n",
            "Tiempo 2.88 s: Desacelerando o subiendo\n",
            "Tiempo 2.93 s: Desacelerando o subiendo\n",
            "Tiempo 2.98 s: Desacelerando o subiendo\n",
            "Tiempo 3.03 s: Desacelerando o subiendo\n",
            "Tiempo 3.08 s: Desacelerando o subiendo\n",
            "Tiempo 3.13 s: Desacelerando o subiendo\n",
            "Tiempo 3.18 s: Desacelerando o subiendo\n",
            "Tiempo 3.23 s: Desacelerando o subiendo\n",
            "Tiempo 3.28 s: Desacelerando o subiendo\n",
            "Tiempo 3.33 s: Desacelerando o subiendo\n",
            "Tiempo 3.38 s: Desacelerando o subiendo\n",
            "Tiempo 3.43 s: Desacelerando o subiendo\n",
            "Tiempo 3.48 s: Desacelerando o subiendo\n",
            "Tiempo 3.54 s: Desacelerando o subiendo\n",
            "Tiempo 3.59 s: Desacelerando o subiendo\n",
            "Tiempo 3.64 s: Desacelerando o subiendo\n",
            "Tiempo 3.69 s: Desacelerando o subiendo\n",
            "Tiempo 3.74 s: Desacelerando o subiendo\n",
            "Tiempo 3.79 s: Desacelerando o subiendo\n",
            "Tiempo 3.84 s: Desacelerando o subiendo\n",
            "Tiempo 3.89 s: Desacelerando o subiendo\n",
            "Tiempo 3.94 s: Desacelerando o subiendo\n",
            "Tiempo 3.99 s: Desacelerando o subiendo\n",
            "Tiempo 4.04 s: Desacelerando o subiendo\n",
            "Tiempo 4.09 s: Desacelerando o subiendo\n",
            "Tiempo 4.14 s: Desacelerando o subiendo\n",
            "Tiempo 4.19 s: Desacelerando o subiendo\n",
            "Tiempo 4.24 s: Desacelerando o subiendo\n",
            "Tiempo 4.29 s: Desacelerando o subiendo\n",
            "Tiempo 4.34 s: Desacelerando o subiendo\n",
            "Tiempo 4.39 s: Desacelerando o subiendo\n",
            "Tiempo 4.44 s: Desacelerando o subiendo\n",
            "Tiempo 4.49 s: Desacelerando o subiendo\n",
            "Tiempo 4.55 s: Desacelerando o subiendo\n",
            "Tiempo 4.60 s: Desacelerando o subiendo\n",
            "Tiempo 4.65 s: Desacelerando o subiendo\n",
            "Tiempo 4.70 s: Desacelerando o subiendo\n",
            "Tiempo 4.75 s: Desacelerando o subiendo\n",
            "Tiempo 4.80 s: Desacelerando o subiendo\n",
            "Tiempo 4.85 s: Desacelerando o subiendo\n",
            "Tiempo 4.90 s: Desacelerando o subiendo\n",
            "Tiempo 4.95 s: Desacelerando o subiendo\n",
            "Tiempo 5.00 s: Desacelerando o subiendo\n"
          ]
        }
      ],
      "source": [
        "#a = gradient(results.v)\n",
        "#a.plot(label='acceleration', color='C4')\n",
        "#decorate(xlabel='Time (s)',\n",
        "#        ylabel='Acceleration (m/$s^2$)')\n",
        "import numpy as np\n",
        "import matplotlib.pyplot as plt\n",
        "\n",
        "# Coeficientes para ajustar el comportamiento deseado\n",
        "a = 0.5   # Aceleración hacia abajo\n",
        "b = 2.0   # Velocidad inicial hacia abajo\n",
        "c = 10.0  # Posición inicial en el eje y\n",
        "\n",
        "# Definir el rango de tiempo\n",
        "t = np.linspace(0, 5, 100)  # Tiempo de 0 a 5 segundos (ajusta este rango según tu necesidad)\n",
        "\n",
        "# Calcular la velocidad \"v\" en función del tiempo \"t\"\n",
        "v = -2 * a * t + b\n",
        "\n",
        "# Calcular la aceleración \"a\" en función del tiempo \"t\" usando gradiente\n",
        "dt = t[1] - t[0]\n",
        "a = np.gradient(v, dt)\n",
        "\n",
        "# Aceleración debido a la gravedad (en la superficie de la Tierra)\n",
        "g = 9.81  # m/s²\n",
        "\n",
        "# Comparar la aceleración del yo-yo con \"g\"\n",
        "acceleration_comparison = np.where(a < g, \"Desacelerando o subiendo\", np.where(a > g, \"Acelerando o bajando\", \"Cayendo libre\"))\n",
        "\n",
        "# Plot de la velocidad y la aceleración\n",
        "plt.subplot(2, 1, 1)\n",
        "plt.plot(t, v, color='C1')\n",
        "plt.xlabel('Tiempo (s)')\n",
        "plt.ylabel('Velocidad (m/s)')\n",
        "plt.title('Velocidad en función del tiempo')\n",
        "plt.grid(True)\n",
        "\n",
        "plt.subplot(2, 1, 2)\n",
        "plt.plot(t, a, color='C2')\n",
        "plt.axhline(y=g, color='red', linestyle='dashed', label='Aceleración debido a la gravedad')\n",
        "plt.xlabel('Tiempo (s)')\n",
        "plt.ylabel('Aceleración (m/s²)')\n",
        "plt.title('Aceleración en función del tiempo')\n",
        "plt.legend()\n",
        "plt.grid(True)\n",
        "\n",
        "plt.tight_layout()\n",
        "plt.show()\n",
        "\n",
        "print(\"Comparación con g:\")\n",
        "for t_val, comparison in zip(t, acceleration_comparison):\n",
        "    print(f\"Tiempo {t_val:.2f} s: {comparison}\")\n"
      ]
    },
    {
      "cell_type": "markdown",
      "metadata": {
        "id": "L6Q6APyUYQQS"
      },
      "source": [
        "\n",
        "\n",
        "```\n",
        "# Tiene formato de codigo\n",
        "```\n",
        "\n",
        "Y podemos usar la fórmula de `r` para trazar el radio del hilo enrollado a lo largo del tiempo."
      ]
    },
    {
      "cell_type": "code",
      "execution_count": 34,
      "metadata": {
        "colab": {
          "base_uri": "https://localhost:8080/",
          "height": 310
        },
        "id": "x13ECzpgYQQS",
        "outputId": "4eb21b6c-6c4e-4b8e-9f73-60a47c4f2bd8"
      },
      "outputs": [
        {
          "output_type": "display_data",
          "data": {
            "text/plain": [
              "<Figure size 450x300 with 1 Axes>"
            ],
            "image/png": "[encoded data removed]"
          },
          "metadata": {}
        }
      ],
      "source": [
        "#r = np.sqrt(2*k*results.y + Rmin**2)\n",
        "#r.plot(label='radius')\n",
        "\n",
        "#decorate(xlabel='Time (s)',\n",
        "#         ylabel='Radius of spooled thread (m)')\n",
        "\n",
        "#MEJORA\n",
        "import numpy as np\n",
        "import matplotlib.pyplot as plt\n",
        "\n",
        "# Coeficientes para ajustar el comportamiento deseado\n",
        "a = 0.5   # Aceleración hacia abajo\n",
        "b = 2.0   # Velocidad inicial hacia abajo\n",
        "c = 10.0  # Posición inicial en el eje y\n",
        "\n",
        "# Longitud inicial del hilo enrollado (ajusta este valor según tus necesidades)\n",
        "L = 15.0\n",
        "\n",
        "# Definir el rango de tiempo\n",
        "t = np.linspace(0, 5, 100)  # Tiempo de 0 a 5 segundos (ajusta este rango según tu necesidad)\n",
        "\n",
        "# Calcular la posición \"y\" en función del tiempo \"t\"\n",
        "y = -a * t**2 + b * t + c\n",
        "\n",
        "# Calcular el radio \"r\" en función del tiempo \"t\"\n",
        "r = np.sqrt(L**2 - y**2)\n",
        "\n",
        "# Plot del radio \"r\" en función del tiempo\n",
        "plt.plot(t, r, color='C3')\n",
        "plt.xlabel('Tiempo (s)')\n",
        "plt.ylabel('Radio del hilo (m)')\n",
        "plt.title('Cambio del radio del hilo a lo largo del tiempo')\n",
        "plt.grid(True)\n",
        "plt.show()\n"
      ]
    },
    {
      "cell_type": "code",
      "execution_count": null,
      "metadata": {
        "id": "Cj0OOCoMYQQT"
      },
      "outputs": [],
      "source": []
    }
  ],
  "metadata": {
    "kernelspec": {
      "display_name": "Python 3 (ipykernel)",
      "language": "python",
      "name": "python3"
    },
    "language_info": {
      "codemirror_mode": {
        "name": "ipython",
        "version": 3
      },
      "file_extension": ".py",
      "mimetype": "text/x-python",
      "name": "python",
      "nbconvert_exporter": "python",
      "pygments_lexer": "ipython3",
      "version": "3.8.16"
    },
    "colab": {
      "provenance": [],
      "include_colab_link": true
    }
  },
  "nbformat": 4,
  "nbformat_minor": 0
}